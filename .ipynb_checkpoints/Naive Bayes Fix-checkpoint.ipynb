{
 "cells": [
  {
   "cell_type": "code",
   "execution_count": 1,
   "metadata": {},
   "outputs": [],
   "source": [
    "import pandas as pd \n",
    "import pprint "
   ]
  },
  {
   "cell_type": "code",
   "execution_count": 9,
   "metadata": {},
   "outputs": [],
   "source": [
    "class Classifier():\n",
    "    data = None\n",
    "    class_attr = None\n",
    "    priori = {}\n",
    "    cp = {}\n",
    "    hypothesis = None\n",
    "    "
   ]
  },
  {
   "cell_type": "code",
   "execution_count": 3,
   "metadata": {},
   "outputs": [],
   "source": [
    "def __init__(self,filename=None, class_attr=None ):\n",
    "        self.data = pd.read_csv(filename, sep=',', header =(0))\n",
    "        self.class_attr = class_attr"
   ]
  },
  {
   "cell_type": "code",
   "execution_count": 10,
   "metadata": {},
   "outputs": [],
   "source": [
    "def calculate_priori(self):\n",
    "        class_values = list(set(self.data[self.class_attr]))\n",
    "        class_data =  list(self.data[self.class_attr])\n",
    "        for i in class_values:\n",
    "            self.priori[i]  = class_data.count(i)/float(len(class_data))\n",
    "            print(\"Priori Values: \", self.priori)"
   ]
  },
  {
   "cell_type": "code",
   "execution_count": 11,
   "metadata": {},
   "outputs": [],
   "source": [
    "def get_cp(self, attr, attr_type, class_value):\n",
    "        data_attr = list(self.data[attr])\n",
    "        class_data = list(self.data[self.class_attr])\n",
    "        total =1\n",
    "        for i in range(0, len(data_attr)):\n",
    "            if class_data[i] == class_value and data_attr[i] == attr_type:\n",
    "                total+=1\n",
    "        return total/float(class_data.count(class_value))"
   ]
  },
  {
   "cell_type": "code",
   "execution_count": 6,
   "metadata": {},
   "outputs": [],
   "source": [
    "def calculate_conditional_probabilities(self, hypothesis):\n",
    "        for i in self.priori:\n",
    "            self.cp[i] = {}\n",
    "            for j in hypothesis:\n",
    "                self.cp[i].update({ hypothesis[j]: self.get_cp(j, hypothesis[j], i)})\n",
    "        \n",
    "        pprint.pprint(self.cp)"
   ]
  },
  {
   "cell_type": "code",
   "execution_count": 12,
   "metadata": {},
   "outputs": [
    {
     "ename": "TypeError",
     "evalue": "Classifier() takes no arguments",
     "output_type": "error",
     "traceback": [
      "\u001b[1;31m---------------------------------------------------------------------------\u001b[0m",
      "\u001b[1;31mTypeError\u001b[0m                                 Traceback (most recent call last)",
      "\u001b[1;32m<ipython-input-12-8831f70b83b6>\u001b[0m in \u001b[0;36m<module>\u001b[1;34m\u001b[0m\n\u001b[0;32m      4\u001b[0m \u001b[1;33m\u001b[0m\u001b[0m\n\u001b[0;32m      5\u001b[0m \u001b[1;32mif\u001b[0m \u001b[0m__name__\u001b[0m \u001b[1;33m==\u001b[0m \u001b[1;34m\"__main__\"\u001b[0m\u001b[1;33m:\u001b[0m\u001b[1;33m\u001b[0m\u001b[1;33m\u001b[0m\u001b[0m\n\u001b[1;32m----> 6\u001b[1;33m    \u001b[0mc\u001b[0m\u001b[1;33m=\u001b[0m\u001b[0mClassifier\u001b[0m\u001b[1;33m(\u001b[0m\u001b[0mfilename\u001b[0m\u001b[1;33m=\u001b[0m\u001b[1;34m'data.csv'\u001b[0m\u001b[1;33m,\u001b[0m \u001b[0mclass_attr\u001b[0m\u001b[1;33m=\u001b[0m\u001b[1;34m\"Beli Laptop\"\u001b[0m\u001b[1;33m)\u001b[0m\u001b[1;33m\u001b[0m\u001b[1;33m\u001b[0m\u001b[0m\n\u001b[0m\u001b[0;32m      7\u001b[0m    \u001b[0mc\u001b[0m\u001b[1;33m.\u001b[0m\u001b[0mcalculate_priori\u001b[0m\u001b[1;33m(\u001b[0m\u001b[1;33m)\u001b[0m\u001b[1;33m\u001b[0m\u001b[1;33m\u001b[0m\u001b[0m\n\u001b[0;32m      8\u001b[0m    \u001b[0mc\u001b[0m\u001b[1;33m.\u001b[0m\u001b[0mhypothesis\u001b[0m \u001b[1;33m=\u001b[0m \u001b[1;33m{\u001b[0m\u001b[1;34m\"Umur\"\u001b[0m\u001b[1;33m:\u001b[0m\u001b[1;34m'<=30'\u001b[0m\u001b[1;33m,\u001b[0m \u001b[1;34m\"Gaji\"\u001b[0m\u001b[1;33m:\u001b[0m\u001b[1;34m\"sedang\"\u001b[0m\u001b[1;33m,\u001b[0m \u001b[1;34m\"Status\"\u001b[0m\u001b[1;33m:\u001b[0m\u001b[1;34m'menikah'\u001b[0m \u001b[1;33m,\u001b[0m \u001b[1;34m\"Hutang\"\u001b[0m\u001b[1;33m:\u001b[0m\u001b[1;34m'Punya'\u001b[0m\u001b[1;33m}\u001b[0m\u001b[1;33m\u001b[0m\u001b[1;33m\u001b[0m\u001b[0m\n",
      "\u001b[1;31mTypeError\u001b[0m: Classifier() takes no arguments"
     ]
    }
   ],
   "source": [
    " def classify(self):\n",
    "        for i in self.cp:\n",
    "            print (i, \" ==> \", reduce(lambda x, y: x * y, self.cp[i].values())*self.priori[i])\n",
    "\n",
    "if __name__ == \"__main__\":\n",
    "    c=Classifier(filename='data.csv', class_attr=\"Beli Laptop\")\n",
    "    c.calculate_priori()\n",
    "    c.hypothesis = {\"Umur\":'<=30', \"Gaji\":\"sedang\", \"Status\":'menikah' , \"Hutang\":'Punya'}\n",
    "    c.calculate_conditional_probabilities(c.hypothesis)\n",
    "    c.classify()"
   ]
  },
  {
   "cell_type": "code",
   "execution_count": null,
   "metadata": {},
   "outputs": [],
   "source": []
  }
 ],
 "metadata": {
  "kernelspec": {
   "display_name": "Python 3",
   "language": "python",
   "name": "python3"
  },
  "language_info": {
   "codemirror_mode": {
    "name": "ipython",
    "version": 3
   },
   "file_extension": ".py",
   "mimetype": "text/x-python",
   "name": "python",
   "nbconvert_exporter": "python",
   "pygments_lexer": "ipython3",
   "version": "3.7.3"
  }
 },
 "nbformat": 4,
 "nbformat_minor": 2
}
