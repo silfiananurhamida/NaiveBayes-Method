{
 "cells": [
  {
   "cell_type": "code",
   "execution_count": 1,
   "metadata": {},
   "outputs": [],
   "source": [
    "import pandas as pd \n",
    "import pprint\n",
    "import math\n",
    "from functools import reduce"
   ]
  },
  {
   "cell_type": "code",
   "execution_count": 2,
   "metadata": {},
   "outputs": [],
   "source": [
    "class Classifier():\n",
    "    data = None\n",
    "    class_attr = None\n",
    "    priori = {}\n",
    "    cp = {}\n",
    "    hypothesis = None\n",
    "    \n",
    "    def __init__(self,filename=None, class_attr=None ):\n",
    "        self.data = pd.read_csv(filename, sep=',', header =(0))\n",
    "        self.class_attr = class_attr\n",
    "        \n",
    "    def calculate_priori(self):\n",
    "        class_values = list(set(self.data[self.class_attr]))\n",
    "        class_data =  list(self.data[self.class_attr])\n",
    "        for i in class_values:\n",
    "            self.priori[i]  = class_data.count(i)/float(len(class_data))\n",
    "            print(\"Priori Values: \", self.priori)\n",
    "            \n",
    "    def get_cp(self, attr, attr_type, class_value):\n",
    "        data_attr = list(self.data[attr])\n",
    "        class_data = list(self.data[self.class_attr])\n",
    "        total =1\n",
    "        for i in range(0, len(data_attr)):\n",
    "            if class_data[i] == class_value and data_attr[i] == attr_type:\n",
    "                total+=1\n",
    "        return total/float(class_data.count(class_value))\n",
    "    \n",
    "    def calculate_conditional_probabilities(self, hypothesis):\n",
    "        for i in self.priori:\n",
    "            self.cp[i] = {}\n",
    "            for j in hypothesis:\n",
    "                self.cp[i].update({ hypothesis[j]: self.get_cp(j, hypothesis[j], i)})\n",
    "        print (\"\\n Probabilitas Bersyarat yang Dihitung: \\n\")\n",
    "        pprint.pprint(self.cp)\n",
    "        \n",
    "    def classify(self):\n",
    "        print('Result')\n",
    "        for i in self.cp:\n",
    "            print (i, \" ==> \", reduce(lambda x, y: x * y, self.cp[i].values())*self.priori[i])\n",
    "    "
   ]
  },
  {
   "cell_type": "code",
   "execution_count": 3,
   "metadata": {},
   "outputs": [
    {
     "name": "stdout",
     "output_type": "stream",
     "text": [
      "Priori Values:  {'iya': 0.6428571428571429}\n",
      "Priori Values:  {'iya': 0.6428571428571429, 'tidak': 0.35714285714285715}\n",
      "\n",
      " Probabilitas Bersyarat yang Dihitung: \n",
      "\n",
      "{'iya': {'<=30': 0.3333333333333333,\n",
      "         'menikah': 0.7777777777777778,\n",
      "         'punya': 0.7777777777777778,\n",
      "         'sedang': 0.5555555555555556},\n",
      " 'tidak': {'<=30': 0.8, 'menikah': 0.4, 'punya': 0.6, 'sedang': 0.6}}\n",
      "Result\n",
      "iya  ==>  0.07201646090534979\n",
      "tidak  ==>  0.04114285714285714\n"
     ]
    }
   ],
   "source": [
    "c = Classifier(filename='data.csv', class_attr=\"Beli Laptop\")\n",
    "c.calculate_priori()\n",
    "c.hypothesis = {\"Umur\":'<=30', \"Gaji\":\"sedang\", \"Status\":'menikah' , \"Hutang\":'punya'}\n",
    "c.calculate_conditional_probabilities(c.hypothesis)\n",
    "c.classify()"
   ]
  }
 ],
 "metadata": {
  "kernelspec": {
   "display_name": "Python 3",
   "language": "python",
   "name": "python3"
  },
  "language_info": {
   "codemirror_mode": {
    "name": "ipython",
    "version": 3
   },
   "file_extension": ".py",
   "mimetype": "text/x-python",
   "name": "python",
   "nbconvert_exporter": "python",
   "pygments_lexer": "ipython3",
   "version": "3.7.3"
  }
 },
 "nbformat": 4,
 "nbformat_minor": 2
}
